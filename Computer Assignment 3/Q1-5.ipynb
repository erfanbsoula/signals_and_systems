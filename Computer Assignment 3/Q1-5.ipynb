{
 "cells": [
  {
   "cell_type": "code",
   "execution_count": 1,
   "id": "23538aff",
   "metadata": {},
   "outputs": [],
   "source": [
    "from lcapy import *\n",
    "from matplotlib import pyplot as plt\n",
    "import numpy as np"
   ]
  },
  {
   "cell_type": "markdown",
   "id": "b3ac1383",
   "metadata": {},
   "source": [
    "# Question 1\n",
    "### A)"
   ]
  },
  {
   "cell_type": "code",
   "execution_count": 66,
   "id": "f09907ba",
   "metadata": {},
   "outputs": [
    {
     "data": {
      "image/png": "[encoded data removed]",
      "text/latex": [
       "$\\displaystyle A_{1} e^{- \\alpha t} u\\left(t\\right) + A_{2} e^{- \\beta t} \\sin{\\left(\\omega_{0} t + \\theta \\right)} u\\left(t\\right)$"
      ],
      "text/plain": [
       "    -α⋅t            -β⋅t                   \n",
       "A₁⋅ℯ    ⋅u(t) + A₂⋅ℯ    ⋅sin(ω₀⋅t + θ)⋅u(t)"
      ]
     },
     "execution_count": 66,
     "metadata": {},
     "output_type": "execute_result"
    }
   ],
   "source": [
    "x = expr('A_1 * exp(-alpha * t) * u(t) + A_2 * exp(-beta * t) * sin(omega_0 * t + theta) * u(t)')\n",
    "x.expr"
   ]
  },
  {
   "cell_type": "markdown",
   "id": "aa9589f4",
   "metadata": {},
   "source": [
    "### B)"
   ]
  },
  {
   "cell_type": "code",
   "execution_count": 68,
   "id": "e0290b10",
   "metadata": {},
   "outputs": [
    {
     "data": {
      "image/png": "[encoded data removed]",
      "text/latex": [
       "$\\displaystyle \\frac{A_{1}}{s \\left(\\frac{\\alpha}{s} + 1\\right)} + \\frac{A_{2} \\left(\\omega_{0} \\cos{\\left(\\theta \\right)} + \\left(\\beta + s\\right) \\sin{\\left(\\theta \\right)}\\right)}{\\omega_{0}^{2} + \\left(\\beta + s\\right)^{2}}$"
      ],
      "text/plain": [
       "    A₁      A₂⋅(ω₀⋅cos(θ) + (β + s)⋅sin(θ))\n",
       "───────── + ───────────────────────────────\n",
       "  ⎛α    ⎞              2          2        \n",
       "s⋅⎜─ + 1⎟            ω₀  + (β + s)         \n",
       "  ⎝s    ⎠                                  "
      ]
     },
     "execution_count": 68,
     "metadata": {},
     "output_type": "execute_result"
    }
   ],
   "source": [
    "X = x(s)\n",
    "X.expr"
   ]
  },
  {
   "cell_type": "markdown",
   "id": "69746821",
   "metadata": {},
   "source": [
    "### C)"
   ]
  },
  {
   "cell_type": "code",
   "execution_count": 5,
   "id": "d0ad3a5a",
   "metadata": {},
   "outputs": [
    {
     "data": {
      "image/png": "[encoded data removed]",
      "text/latex": [
       "$\\displaystyle \\frac{A_{1} \\left(\\omega_{0}^{2} + \\left(\\beta + s\\right)^{2}\\right) + A_{2} \\left(\\alpha + s\\right) \\left(\\omega_{0} \\cos{\\left(\\theta \\right)} + \\left(\\beta + s\\right) \\sin{\\left(\\theta \\right)}\\right)}{\\left(\\alpha + s\\right) \\left(\\omega_{0}^{2} + \\left(\\beta + s\\right)^{2}\\right)}$"
      ],
      "text/plain": [
       "   ⎛  2          2⎞                                          \n",
       "A₁⋅⎝ω₀  + (β + s) ⎠ + A₂⋅(α + s)⋅(ω₀⋅cos(θ) + (β + s)⋅sin(θ))\n",
       "─────────────────────────────────────────────────────────────\n",
       "                           ⎛  2          2⎞                  \n",
       "                   (α + s)⋅⎝ω₀  + (β + s) ⎠                  "
      ]
     },
     "execution_count": 5,
     "metadata": {},
     "output_type": "execute_result"
    }
   ],
   "source": [
    "X.simplify().expr"
   ]
  },
  {
   "cell_type": "markdown",
   "id": "be61ec87",
   "metadata": {},
   "source": [
    "### D)"
   ]
  },
  {
   "cell_type": "code",
   "execution_count": 6,
   "id": "20ab6079",
   "metadata": {},
   "outputs": [
    {
     "data": {
      "image/png": "[encoded data removed]",
      "text/latex": [
       "$\\displaystyle \\frac{A_{1}}{\\alpha + s} + \\frac{A_{2} \\left(\\sin{\\left(\\theta \\right)} - \\mathrm{j} \\cos{\\left(\\theta \\right)}\\right)}{2 \\left(\\beta - \\mathrm{j} \\omega_{0} + s\\right)} + \\frac{A_{2} \\left(\\sin{\\left(\\theta \\right)} + \\mathrm{j} \\cos{\\left(\\theta \\right)}\\right)}{2 \\left(\\beta + \\mathrm{j} \\omega_{0} + s\\right)}$"
      ],
      "text/plain": [
       "  A₁    A₂⋅(sin(θ) - ⅉ⋅cos(θ))   A₂⋅(sin(θ) + ⅉ⋅cos(θ))\n",
       "───── + ────────────────────── + ──────────────────────\n",
       "α + s      2⋅(β - ⅉ⋅ω₀ + s)         2⋅(β + ⅉ⋅ω₀ + s)   "
      ]
     },
     "execution_count": 6,
     "metadata": {},
     "output_type": "execute_result"
    }
   ],
   "source": [
    "X.partfrac().simplify_terms().expr"
   ]
  },
  {
   "cell_type": "markdown",
   "id": "a5776a61",
   "metadata": {},
   "source": [
    "### E)"
   ]
  },
  {
   "cell_type": "code",
   "execution_count": 7,
   "id": "6f176416",
   "metadata": {},
   "outputs": [
    {
     "data": {
      "image/png": "[encoded data removed]",
      "text/latex": [
       "$\\displaystyle \\left[ - \\alpha, \\  - \\beta - \\mathrm{j} \\omega_{0}, \\  - \\beta + \\mathrm{j} \\omega_{0}\\right]$"
      ],
      "text/plain": [
       "[-α, -β - ⅉ⋅ω₀, -β + ⅉ⋅ω₀]"
      ]
     },
     "execution_count": 7,
     "metadata": {},
     "output_type": "execute_result"
    }
   ],
   "source": [
    "list(X.poles())"
   ]
  },
  {
   "cell_type": "markdown",
   "id": "939f9746",
   "metadata": {},
   "source": [
    "ROC: Re{s} > max(-$\\alpha$, -$\\beta$)"
   ]
  },
  {
   "cell_type": "markdown",
   "id": "ad6dc6da",
   "metadata": {},
   "source": [
    "# Question 2\n",
    "## Laplace Analysis\n",
    "### A)"
   ]
  },
  {
   "cell_type": "code",
   "execution_count": 2,
   "id": "7a2d1e79",
   "metadata": {},
   "outputs": [],
   "source": [
    "a = Circuit(\"\"\"\n",
    "P1 1 0;\n",
    "R1 1 2;\n",
    "L 2 3;\n",
    "R2 3 0;\n",
    "C 3 0;\n",
    "P2 3 0;\n",
    "\"\"\")"
   ]
  },
  {
   "cell_type": "markdown",
   "id": "d5c9045e",
   "metadata": {},
   "source": [
    "### B)"
   ]
  },
  {
   "cell_type": "code",
   "execution_count": 3,
   "id": "5b0d5a06",
   "metadata": {},
   "outputs": [
    {
     "data": {
      "image/png": "[encoded data removed]",
      "text/latex": [
       "$\\displaystyle \\frac{R_{2}}{C L R_{2} s^{2} + R_{1} + R_{2} + s \\left(C R_{1} R_{2} + L\\right)}$"
      ],
      "text/plain": [
       "                  R₂                 \n",
       "─────────────────────────────────────\n",
       "        2                            \n",
       "C⋅L⋅R₂⋅s  + R₁ + R₂ + s⋅(C⋅R₁⋅R₂ + L)"
      ]
     },
     "execution_count": 3,
     "metadata": {},
     "output_type": "execute_result"
    }
   ],
   "source": [
    "H = a.transfer(1, 0, 3, 0)\n",
    "H.simplify().expr"
   ]
  },
  {
   "cell_type": "markdown",
   "id": "1eb4b25e",
   "metadata": {},
   "source": [
    "### C)"
   ]
  },
  {
   "cell_type": "code",
   "execution_count": 4,
   "id": "6435261c",
   "metadata": {},
   "outputs": [
    {
     "data": {
      "image/png": "[encoded data removed]",
      "text/latex": [
       "$\\displaystyle \\left[ - \\frac{C R_{1} R_{2} + L}{2 C L R_{2}} - \\frac{\\sqrt{C^{2} R_{1}^{2} R_{2}^{2} - 2 C L R_{1} R_{2} - 4 C L R_{2}^{2} + L^{2}}}{2 C L R_{2}}, \\  - \\frac{C R_{1} R_{2} + L}{2 C L R_{2}} + \\frac{\\sqrt{C^{2} R_{1}^{2} R_{2}^{2} - 2 C L R_{1} R_{2} - 4 C L R_{2}^{2} + L^{2}}}{2 C L R_{2}}\\right]$"
      ],
      "text/plain": [
       "⎡                   ___________________________________________               \n",
       "⎢                  ╱  2   2   2                         2    2                \n",
       "⎢  C⋅R₁⋅R₂ + L   ╲╱  C ⋅R₁ ⋅R₂  - 2⋅C⋅L⋅R₁⋅R₂ - 4⋅C⋅L⋅R₂  + L      C⋅R₁⋅R₂ + L\n",
       "⎢- ─────────── - ──────────────────────────────────────────────, - ───────────\n",
       "⎣    2⋅C⋅L⋅R₂                       2⋅C⋅L⋅R₂                         2⋅C⋅L⋅R₂ \n",
       "\n",
       "      ___________________________________________⎤\n",
       "     ╱  2   2   2                         2    2 ⎥\n",
       "   ╲╱  C ⋅R₁ ⋅R₂  - 2⋅C⋅L⋅R₁⋅R₂ - 4⋅C⋅L⋅R₂  + L  ⎥\n",
       " + ──────────────────────────────────────────────⎥\n",
       "                      2⋅C⋅L⋅R₂                   ⎦"
      ]
     },
     "execution_count": 4,
     "metadata": {},
     "output_type": "execute_result"
    }
   ],
   "source": [
    "list(H.poles())"
   ]
  },
  {
   "cell_type": "markdown",
   "id": "acbab6b1",
   "metadata": {},
   "source": [
    "### D)"
   ]
  },
  {
   "cell_type": "code",
   "execution_count": 5,
   "id": "04e2abe6",
   "metadata": {},
   "outputs": [
    {
     "data": {
      "image/png": "[encoded data removed]",
      "text/latex": [
       "$\\displaystyle \\frac{8}{5 s^{2} + 18 s + 24}$"
      ],
      "text/plain": [
       "       8        \n",
       "────────────────\n",
       "   2            \n",
       "5⋅s  + 18⋅s + 24"
      ]
     },
     "execution_count": 5,
     "metadata": {},
     "output_type": "execute_result"
    }
   ],
   "source": [
    "b = a.subs({'R1': 4, 'R2': 2, 'L': 2.5, 'C':0.25})\n",
    "H = b.transfer(1, 0, 3, 0)\n",
    "H.simplify().expr"
   ]
  },
  {
   "cell_type": "code",
   "execution_count": 123,
   "id": "7c3dbbdd",
   "metadata": {},
   "outputs": [
    {
     "name": "stdout",
     "output_type": "stream",
     "text": [
      "-3.75\n"
     ]
    }
   ],
   "source": [
    "print(0.25**2 * 4**2 * 2**2 - 2*0.25*4*2 - 4*0.25*2.5* 2**2 + 2.5**2)"
   ]
  },
  {
   "cell_type": "markdown",
   "id": "c779efb9",
   "metadata": {},
   "source": [
    "the poles are imaginary, so there will be sine terms in step response"
   ]
  },
  {
   "cell_type": "code",
   "execution_count": 6,
   "id": "f6f135e8",
   "metadata": {},
   "outputs": [
    {
     "data": {
      "image/png": "[encoded data removed]",
      "text/latex": [
       "$\\displaystyle \\frac{\\left(13 e^{\\frac{9 t}{5}} - 3 \\sqrt{39} \\sin{\\left(\\frac{\\sqrt{39} t}{5} \\right)} - 13 \\cos{\\left(\\frac{\\sqrt{39} t}{5} \\right)}\\right) e^{- \\frac{9 t}{5}} u\\left(t\\right)}{39}$"
      ],
      "text/plain": [
       "⎛    9⋅t                                   ⎞  -9⋅t      \n",
       "⎜    ───                                   ⎟  ─────     \n",
       "⎜     5             ⎛√39⋅t⎞         ⎛√39⋅t⎞⎟    5       \n",
       "⎜13⋅ℯ    - 3⋅√39⋅sin⎜─────⎟ - 13⋅cos⎜─────⎟⎟⋅ℯ     ⋅u(t)\n",
       "⎝                   ⎝  5  ⎠         ⎝  5  ⎠⎠            \n",
       "────────────────────────────────────────────────────────\n",
       "                           39                           "
      ]
     },
     "execution_count": 6,
     "metadata": {},
     "output_type": "execute_result"
    }
   ],
   "source": [
    "vi = u(t)\n",
    "Vi = vi(s)\n",
    "SR = H * Vi\n",
    "SR(t).simplify().expr"
   ]
  },
  {
   "cell_type": "code",
   "execution_count": 9,
   "id": "7d118309",
   "metadata": {},
   "outputs": [
    {
     "data": {
      "image/png": "[encoded data removed]",
      "text/plain": [
       "<Figure size 432x288 with 1 Axes>"
      ]
     },
     "metadata": {
      "needs_background": "light"
     },
     "output_type": "display_data"
    }
   ],
   "source": [
    "ax = vi.plot((-1, 10), label='input')\n",
    "ax = SR(t).plot((-1, 10), axes=ax, label='output')\n",
    "ax.set_title(\"Vc Response\")\n",
    "ax.set_ylabel(\"voltage (v)\")\n",
    "ax.legend()"
   ]
  },
  {
   "cell_type": "markdown",
   "id": "fecf1df5",
   "metadata": {},
   "source": [
    "### E)"
   ]
  },
  {
   "cell_type": "code",
   "execution_count": 10,
   "id": "8eb55c24",
   "metadata": {},
   "outputs": [],
   "source": [
    "a = Circuit(\"\"\"\n",
    "V1 1 0 {delta(t)};\n",
    "R1 1 2;\n",
    "L 2 3;\n",
    "R2 3 0;\n",
    "C 3 0;\n",
    "P2 3 0;\n",
    "\"\"\")"
   ]
  },
  {
   "cell_type": "code",
   "execution_count": 11,
   "id": "3ef657dd",
   "metadata": {},
   "outputs": [
    {
     "data": {
      "image/png": "[encoded data removed]",
      "text/latex": [
       "$\\displaystyle \\frac{C R_{2} s}{C L R_{2} s^{2} + R_{1} + R_{2} + s \\left(C R_{1} R_{2} + L\\right)}$"
      ],
      "text/plain": [
       "                C⋅R₂⋅s               \n",
       "─────────────────────────────────────\n",
       "        2                            \n",
       "C⋅L⋅R₂⋅s  + R₁ + R₂ + s⋅(C⋅R₁⋅R₂ + L)"
      ]
     },
     "execution_count": 11,
     "metadata": {},
     "output_type": "execute_result"
    }
   ],
   "source": [
    "H = a.C.I(s)\n",
    "H.simplify().expr"
   ]
  },
  {
   "cell_type": "code",
   "execution_count": 12,
   "id": "26c531ae",
   "metadata": {},
   "outputs": [
    {
     "data": {
      "image/png": "[encoded data removed]",
      "text/latex": [
       "$\\displaystyle \\left[ - \\frac{C R_{1} R_{2} + L}{2 C L R_{2}} - \\frac{\\sqrt{C^{2} R_{1}^{2} R_{2}^{2} - 2 C L R_{1} R_{2} - 4 C L R_{2}^{2} + L^{2}}}{2 C L R_{2}}, \\  - \\frac{C R_{1} R_{2} + L}{2 C L R_{2}} + \\frac{\\sqrt{C^{2} R_{1}^{2} R_{2}^{2} - 2 C L R_{1} R_{2} - 4 C L R_{2}^{2} + L^{2}}}{2 C L R_{2}}\\right]$"
      ],
      "text/plain": [
       "⎡                   ___________________________________________               \n",
       "⎢                  ╱  2   2   2                         2    2                \n",
       "⎢  C⋅R₁⋅R₂ + L   ╲╱  C ⋅R₁ ⋅R₂  - 2⋅C⋅L⋅R₁⋅R₂ - 4⋅C⋅L⋅R₂  + L      C⋅R₁⋅R₂ + L\n",
       "⎢- ─────────── - ──────────────────────────────────────────────, - ───────────\n",
       "⎣    2⋅C⋅L⋅R₂                       2⋅C⋅L⋅R₂                         2⋅C⋅L⋅R₂ \n",
       "\n",
       "      ___________________________________________⎤\n",
       "     ╱  2   2   2                         2    2 ⎥\n",
       "   ╲╱  C ⋅R₁ ⋅R₂  - 2⋅C⋅L⋅R₁⋅R₂ - 4⋅C⋅L⋅R₂  + L  ⎥\n",
       " + ──────────────────────────────────────────────⎥\n",
       "                      2⋅C⋅L⋅R₂                   ⎦"
      ]
     },
     "execution_count": 12,
     "metadata": {},
     "output_type": "execute_result"
    }
   ],
   "source": [
    "list(H.poles())"
   ]
  },
  {
   "cell_type": "code",
   "execution_count": 13,
   "id": "26014b91",
   "metadata": {},
   "outputs": [
    {
     "data": {
      "image/png": "[encoded data removed]",
      "text/latex": [
       "$\\displaystyle \\frac{2 s}{5 s^{2} + 18 s + 24}$"
      ],
      "text/plain": [
       "      2⋅s       \n",
       "────────────────\n",
       "   2            \n",
       "5⋅s  + 18⋅s + 24"
      ]
     },
     "execution_count": 13,
     "metadata": {},
     "output_type": "execute_result"
    }
   ],
   "source": [
    "b = a.subs({'R1': 4, 'R2': 2, 'L': 2.5, 'C':0.25})\n",
    "H = b.C.I(s)\n",
    "H.simplify().expr"
   ]
  },
  {
   "cell_type": "code",
   "execution_count": 14,
   "id": "e49144d4",
   "metadata": {},
   "outputs": [
    {
     "data": {
      "image/png": "[encoded data removed]",
      "text/latex": [
       "$\\displaystyle \\frac{2 \\sqrt{39} e^{- \\frac{9 t}{5}} \\sin{\\left(\\frac{\\sqrt{39} t}{5} \\right)} u\\left(t\\right)}{39}$"
      ],
      "text/plain": [
       "       -9⋅t                 \n",
       "       ─────                \n",
       "         5      ⎛√39⋅t⎞     \n",
       "2⋅√39⋅ℯ     ⋅sin⎜─────⎟⋅u(t)\n",
       "                ⎝  5  ⎠     \n",
       "────────────────────────────\n",
       "             39             "
      ]
     },
     "execution_count": 14,
     "metadata": {},
     "output_type": "execute_result"
    }
   ],
   "source": [
    "SR = H * Vi\n",
    "SR(t, causal=True).simplify().expr"
   ]
  },
  {
   "cell_type": "code",
   "execution_count": 17,
   "id": "589095ce",
   "metadata": {},
   "outputs": [
    {
     "data": {
      "image/png": "[encoded data removed]",
      "text/plain": [
       "<Figure size 432x288 with 1 Axes>"
      ]
     },
     "metadata": {
      "needs_background": "light"
     },
     "output_type": "display_data"
    }
   ],
   "source": [
    "ax = vi.plot((-1, 10), label='input')\n",
    "ax = SR(t, causal=True).plot((-1, 10), axes=ax, label='output')\n",
    "ax.set_title(\"Ic Response\")\n",
    "ax.set_ylabel(\"Current (A)\")\n",
    "ax.legend()"
   ]
  },
  {
   "cell_type": "markdown",
   "id": "b032f3e0",
   "metadata": {},
   "source": [
    "## Laplace Transform\n",
    "### A)"
   ]
  },
  {
   "cell_type": "code",
   "execution_count": 18,
   "id": "c38bfd6d",
   "metadata": {},
   "outputs": [
    {
     "data": {
      "image/png": "[encoded data removed]",
      "text/latex": [
       "$\\displaystyle \\left(3 - 2 f_{0}\\right) \\delta\\left(t\\right) + \\left(\\frac{f_{0}^{2}}{2} + \\left(\\frac{f_{0}^{2}}{2} - 6 f_{0} - 2\\right) \\cos{\\left(2 t \\right)} + \\left(\\frac{3 f_{0}^{2}}{2} - 2 f_{0} - 6\\right) \\sin{\\left(2 t \\right)}\\right) u\\left(t\\right) + \\delta^{\\left( 1 \\right)}\\left( t \\right)$"
      ],
      "text/plain": [
       "                  ⎛  2   ⎛  2           ⎞            ⎛    2           ⎞       \n",
       "                  ⎜f₀    ⎜f₀            ⎟            ⎜3⋅f₀            ⎟       \n",
       "(3 - 2⋅f₀)⋅δ(t) + ⎜─── + ⎜─── - 6⋅f₀ - 2⎟⋅cos(2⋅t) + ⎜───── - 2⋅f₀ - 6⎟⋅sin(2⋅\n",
       "                  ⎝ 2    ⎝ 2            ⎠            ⎝  2             ⎠       \n",
       "\n",
       "  ⎞                \n",
       "  ⎟         (1)    \n",
       "t)⎟⋅u(t) + δ    (t)\n",
       "  ⎠                "
      ]
     },
     "execution_count": 18,
     "metadata": {},
     "output_type": "execute_result"
    }
   ],
   "source": [
    "x = expr(\"(3-2*f_0)*delta(t)+((f_0**2)/2+((f_0**2)/2-6*f_0 -2)*cos(2*t)+((3*f_0**2)/2-2*f_0-6)*sin(2*t))*u(t)\")\n",
    "x = x + s(t, causal=True)\n",
    "x.expr"
   ]
  },
  {
   "cell_type": "code",
   "execution_count": 19,
   "id": "f531dd05",
   "metadata": {},
   "outputs": [
    {
     "data": {
      "image/png": "[encoded data removed]",
      "text/latex": [
       "$\\displaystyle \\frac{f_{0}^{2}}{2 s} - 2 f_{0} + s + \\frac{s \\left(\\frac{f_{0}^{2}}{2} - 6 f_{0} - 2\\right)}{s^{2} + 4} + 3 + \\frac{2 \\left(\\frac{3 f_{0}^{2}}{2} - 2 f_{0} - 6\\right)}{s^{2} + 4}$"
      ],
      "text/plain": [
       "                   ⎛  2           ⎞         ⎛    2           ⎞\n",
       "                   ⎜f₀            ⎟         ⎜3⋅f₀            ⎟\n",
       "  2              s⋅⎜─── - 6⋅f₀ - 2⎟       2⋅⎜───── - 2⋅f₀ - 6⎟\n",
       "f₀                 ⎝ 2            ⎠         ⎝  2             ⎠\n",
       "─── - 2⋅f₀ + s + ────────────────── + 3 + ────────────────────\n",
       "2⋅s                     2                         2           \n",
       "                       s  + 4                    s  + 4       "
      ]
     },
     "execution_count": 19,
     "metadata": {},
     "output_type": "execute_result"
    }
   ],
   "source": [
    "X = x(s)\n",
    "X.expr"
   ]
  },
  {
   "cell_type": "code",
   "execution_count": 20,
   "id": "7ccf8c3c",
   "metadata": {},
   "outputs": [
    {
     "data": {
      "image/png": "[encoded data removed]",
      "text/latex": [
       "$\\displaystyle \\frac{s^{4} - s^{3} - 6 s^{2} - 12 s + 8}{s \\left(s^{2} + 4\\right)}$"
      ],
      "text/plain": [
       " 4    3      2           \n",
       "s  - s  - 6⋅s  - 12⋅s + 8\n",
       "─────────────────────────\n",
       "          ⎛ 2    ⎞       \n",
       "        s⋅⎝s  + 4⎠       "
      ]
     },
     "execution_count": 20,
     "metadata": {},
     "output_type": "execute_result"
    }
   ],
   "source": [
    "X = X.subs({'f_0': 2})\n",
    "X.simplify().expr"
   ]
  },
  {
   "cell_type": "code",
   "execution_count": 21,
   "id": "baf02ac1",
   "metadata": {},
   "outputs": [
    {
     "data": {
      "image/png": "[encoded data removed]",
      "text/plain": [
       "<Figure size 432x288 with 1 Axes>"
      ]
     },
     "metadata": {
      "needs_background": "light"
     },
     "output_type": "display_data"
    }
   ],
   "source": [
    "X.plot(title='Pole-Zero plot')"
   ]
  },
  {
   "cell_type": "markdown",
   "id": "e7cb9c81",
   "metadata": {},
   "source": [
    "# Question 3\n",
    "### A)"
   ]
  },
  {
   "cell_type": "code",
   "execution_count": 22,
   "id": "4dfc775e",
   "metadata": {},
   "outputs": [
    {
     "data": {
      "text/latex": [
       "$(((\\mathrm{C}(\\frac{121}{1295}) + \\mathrm{R}(\\frac{67081}{6292})) | \\mathrm{C}(\\frac{169}{2072})) + \\mathrm{R}(\\frac{30}{13})) | \\mathrm{C}(\\frac{1}{4})$"
      ],
      "text/plain": [
       "(((C(121 \n",
       "────\n",
       "1295) + R(67081\n",
       "─────\n",
       " 6292)) | C(169 \n",
       "────\n",
       "2072)) + R(30\n",
       "──\n",
       "13)) | C(1/4)"
      ]
     },
     "execution_count": 22,
     "metadata": {},
     "output_type": "execute_result"
    }
   ],
   "source": [
    "Z = impedance(4*(15*s**2 + 112*s + 80) / (s*(15*s**2 + 138*s + 136)))\n",
    "Z.network()"
   ]
  },
  {
   "cell_type": "code",
   "execution_count": 23,
   "id": "54d53094",
   "metadata": {},
   "outputs": [
    {
     "data": {
      "image/png": "[encoded data removed]",
      "text/plain": [
       "<Figure size 432x288 with 1 Axes>"
      ]
     },
     "metadata": {
      "needs_background": "light"
     },
     "output_type": "display_data"
    }
   ],
   "source": [
    "N = R(10) + L(1e-2)\n",
    "vf = np.logspace(0, 5, 400)\n",
    "Z = N.Z(f).evaluate(vf)\n",
    "\n",
    "fig = plt.figure()\n",
    "ax = fig.add_subplot(111)\n",
    "ax.loglog(vf, abs(Z), linewidth=2)\n",
    "ax.set_title(\"Network Impedance by Frequency\")\n",
    "ax.set_xlabel('Frequency (Hz)')\n",
    "ax.set_ylabel('Impedance (ohms)')\n",
    "ax.grid(True)"
   ]
  },
  {
   "cell_type": "code",
   "execution_count": 24,
   "id": "beba0931",
   "metadata": {},
   "outputs": [
    {
     "data": {
      "image/png": "[encoded data removed]",
      "text/plain": [
       "<Figure size 432x288 with 1 Axes>"
      ]
     },
     "metadata": {
      "needs_background": "light"
     },
     "output_type": "display_data"
    }
   ],
   "source": [
    "N = Vstep(20) + R(10) + L(1e-2, 0)\n",
    "vt = np.linspace(0, 0.01, 1000)\n",
    "N.Isc(t).plot(vt, title=\"Short-Circuit Current\")"
   ]
  },
  {
   "cell_type": "code",
   "execution_count": 25,
   "id": "5ad938f4",
   "metadata": {},
   "outputs": [
    {
     "data": {
      "image/png": "[encoded data removed]",
      "text/plain": [
       "<Figure size 432x288 with 1 Axes>"
      ]
     },
     "metadata": {
      "needs_background": "light"
     },
     "output_type": "display_data"
    }
   ],
   "source": [
    "N.Voc(t).plot(vt, title=\"Open-Circuit Voltage\")"
   ]
  },
  {
   "cell_type": "markdown",
   "id": "404e4256",
   "metadata": {},
   "source": [
    "# Question 4\n",
    "## Discrete Analysis\n",
    "### A)"
   ]
  },
  {
   "cell_type": "code",
   "execution_count": 26,
   "id": "ac45926c",
   "metadata": {},
   "outputs": [
    {
     "data": {
      "image/png": "[encoded data removed]",
      "text/latex": [
       "$\\displaystyle 10 e^{- \\frac{\\mathrm{j} \\pi n}{3}} u\\left[n\\right] + 5 e^{- \\frac{\\mathrm{j} \\pi n}{4}} u\\left[n\\right]$"
      ],
      "text/plain": [
       "    -ⅉ⋅π⋅n            -ⅉ⋅π⋅n      \n",
       "    ───────           ───────     \n",
       "       3                 4        \n",
       "10⋅ℯ       ⋅u[n] + 5⋅ℯ       ⋅u[n]"
      ]
     },
     "execution_count": 26,
     "metadata": {},
     "output_type": "execute_result"
    }
   ],
   "source": [
    "x = expr('5*exp(-j*n*pi/4)*u(n) + 10*exp(-j*n*pi/3)*u(n)')\n",
    "x.expr"
   ]
  },
  {
   "cell_type": "code",
   "execution_count": 27,
   "id": "215035dc",
   "metadata": {},
   "outputs": [
    {
     "data": {
      "image/png": "[encoded data removed]",
      "text/plain": [
       "<Figure size 432x288 with 1 Axes>"
      ]
     },
     "metadata": {
      "needs_background": "light"
     },
     "output_type": "display_data"
    }
   ],
   "source": [
    "x.plot((0,30), title=\"function x[n]\")"
   ]
  },
  {
   "cell_type": "markdown",
   "id": "def54dd4",
   "metadata": {},
   "source": [
    "### B)"
   ]
  },
  {
   "cell_type": "code",
   "execution_count": 28,
   "id": "be59ab90",
   "metadata": {},
   "outputs": [
    {
     "data": {
      "image/png": "[encoded data removed]",
      "text/plain": [
       "<Figure size 432x288 with 1 Axes>"
      ]
     },
     "metadata": {
      "needs_background": "light"
     },
     "output_type": "display_data"
    }
   ],
   "source": [
    "x.plot((0,30), polar=True)"
   ]
  },
  {
   "cell_type": "code",
   "execution_count": 29,
   "id": "12a5fff8",
   "metadata": {},
   "outputs": [
    {
     "data": {
      "image/png": "[encoded data removed]",
      "text/plain": [
       "<Figure size 432x288 with 1 Axes>"
      ]
     },
     "metadata": {
      "needs_background": "light"
     },
     "output_type": "display_data"
    }
   ],
   "source": [
    "xs = x.seq((0,30)).as_array()\n",
    "plt.stem(np.angle(xs))\n",
    "plt.title(\"phase of x[n]\")\n",
    "plt.xlabel(\"Descrete time\")\n",
    "plt.ylabel(\"radian\")"
   ]
  },
  {
   "cell_type": "code",
   "execution_count": 30,
   "id": "40bd6367",
   "metadata": {},
   "outputs": [
    {
     "data": {
      "image/png": "[encoded data removed]",
      "text/plain": [
       "<Figure size 432x288 with 1 Axes>"
      ]
     },
     "metadata": {
      "needs_background": "light"
     },
     "output_type": "display_data"
    }
   ],
   "source": [
    "plt.stem(np.abs(xs))\n",
    "plt.title(\"abs value of x[n]\")\n",
    "plt.xlabel(\"Descrete time\")"
   ]
  },
  {
   "cell_type": "markdown",
   "id": "d90221a0",
   "metadata": {},
   "source": [
    "## Sequence\n",
    "### A)"
   ]
  },
  {
   "cell_type": "code",
   "execution_count": 27,
   "id": "73b547ed",
   "metadata": {},
   "outputs": [
    {
     "data": {
      "image/png": "[encoded data removed]",
      "text/latex": [
       "$\\displaystyle e^{- \\frac{\\mathrm{j} \\pi n}{2}} u\\left[n\\right]$"
      ],
      "text/plain": [
       " -ⅉ⋅π⋅n      \n",
       " ───────     \n",
       "    2        \n",
       "ℯ       ⋅u[n]"
      ]
     },
     "execution_count": 27,
     "metadata": {},
     "output_type": "execute_result"
    }
   ],
   "source": [
    "x1 = expr('exp(-j*n*pi/2)*u(n)')\n",
    "x1.expr"
   ]
  },
  {
   "cell_type": "code",
   "execution_count": 28,
   "id": "77d21d2b",
   "metadata": {},
   "outputs": [
    {
     "data": {
      "image/png": "[encoded data removed]",
      "text/latex": [
       "$\\displaystyle n u\\left[n\\right]$"
      ],
      "text/plain": [
       "n⋅u[n]"
      ]
     },
     "execution_count": 28,
     "metadata": {},
     "output_type": "execute_result"
    }
   ],
   "source": [
    "x2 = expr('n*u(n)')\n",
    "x2.expr"
   ]
  },
  {
   "cell_type": "code",
   "execution_count": 29,
   "id": "d169ff55",
   "metadata": {},
   "outputs": [],
   "source": [
    "x1_ = x1.seq((0,5))\n",
    "x2_ = x2.seq((0,5))"
   ]
  },
  {
   "cell_type": "markdown",
   "id": "5f1f886a",
   "metadata": {},
   "source": [
    "### B)"
   ]
  },
  {
   "cell_type": "code",
   "execution_count": 30,
   "id": "6c9480e5",
   "metadata": {},
   "outputs": [
    {
     "data": {
      "text/latex": [
       "$$\\left\\{\\underline{1}, - \\mathrm{j}, -1, \\mathrm{j}, 1, - \\mathrm{j}, 1, - \\mathrm{j}, -1, \\mathrm{j}, 1, - \\mathrm{j}\\right\\}$$"
      ],
      "text/plain": [
       "{_1, -ⅉ, -1, ⅉ, 1, -ⅉ, 1, -ⅉ, -1, ⅉ, 1, -ⅉ}"
      ]
     },
     "execution_count": 30,
     "metadata": {},
     "output_type": "execute_result"
    }
   ],
   "source": [
    "x3 = x1_ + x1_\n",
    "x3"
   ]
  },
  {
   "cell_type": "code",
   "execution_count": 31,
   "id": "c7e9f354",
   "metadata": {},
   "outputs": [],
   "source": [
    "x4 = seq((0, 0, 0, 0, 0, 0))\n",
    "for m in range(0, 6):\n",
    "    for i in range(0, 6):\n",
    "        x4[m] += x3(5-m+i)*x2_(i)"
   ]
  },
  {
   "cell_type": "markdown",
   "id": "7f7834c2",
   "metadata": {},
   "source": [
    "### C)"
   ]
  },
  {
   "cell_type": "code",
   "execution_count": 32,
   "id": "9eb509d2",
   "metadata": {},
   "outputs": [
    {
     "data": {
      "text/latex": [
       "$$\\left\\{\\underline{3 + 2*j}, -2 + \\mathrm{j}, -1 - 6 \\mathrm{j}, 6 - 7 \\mathrm{j}, 7 - 2 \\mathrm{j}, 2 - 3 \\mathrm{j}\\right\\}$$"
      ],
      "text/plain": [
       "{_3 + 2⋅ⅉ, -2 + ⅉ, -1 - 6⋅ⅉ, 6 - 7⋅ⅉ, 7 - 2⋅ⅉ, 2 - 3⋅ⅉ}"
      ]
     },
     "execution_count": 32,
     "metadata": {},
     "output_type": "execute_result"
    }
   ],
   "source": [
    "x4"
   ]
  },
  {
   "cell_type": "markdown",
   "id": "8f823998",
   "metadata": {},
   "source": [
    "## Discrete Transforms\n",
    "### A)"
   ]
  },
  {
   "cell_type": "code",
   "execution_count": 32,
   "id": "f6b39312",
   "metadata": {},
   "outputs": [
    {
     "data": {
      "image/png": "[encoded data removed]",
      "text/latex": [
       "$\\displaystyle \\left(\\frac{1}{2} - a\\right)^{n} u\\left[n\\right] + 10 \\left(a + \\frac{1}{3}\\right)^{n} u\\left[n\\right]$"
      ],
      "text/plain": [
       "         n                    n     \n",
       "(1/2 - a) ⋅u[n] + 10⋅(a + 1/3) ⋅u[n]"
      ]
     },
     "execution_count": 32,
     "metadata": {},
     "output_type": "execute_result"
    }
   ],
   "source": [
    "x = expr('(0.5 - a)**n*u(n) + 10*(a+1/3)**n*u(n)')\n",
    "x.expr"
   ]
  },
  {
   "cell_type": "code",
   "execution_count": 33,
   "id": "88513916",
   "metadata": {},
   "outputs": [
    {
     "data": {
      "image/png": "[encoded data removed]",
      "text/latex": [
       "$\\displaystyle 11 + \\frac{40}{3 z - 4} - \\frac{1}{2 z + 1}$"
      ],
      "text/plain": [
       "        40        1   \n",
       "11 + ─────── - ───────\n",
       "     3⋅z - 4   2⋅z + 1"
      ]
     },
     "execution_count": 33,
     "metadata": {},
     "output_type": "execute_result"
    }
   ],
   "source": [
    "X = x.subs({'a': 1})(z)\n",
    "X.partfrac().simplify_terms().expr"
   ]
  },
  {
   "cell_type": "code",
   "execution_count": 34,
   "id": "9a0fd968",
   "metadata": {},
   "outputs": [
    {
     "data": {
      "image/png": "[encoded data removed]",
      "text/plain": [
       "<Figure size 432x288 with 1 Axes>"
      ]
     },
     "metadata": {
      "needs_background": "light"
     },
     "output_type": "display_data"
    }
   ],
   "source": [
    "X(z).plot(title=\"Pole-Zero plot for a=1\")"
   ]
  },
  {
   "cell_type": "code",
   "execution_count": 35,
   "id": "f52e442c",
   "metadata": {},
   "outputs": [
    {
     "data": {
      "image/png": "[encoded data removed]",
      "text/latex": [
       "$\\displaystyle 11 + \\frac{110}{6 z - 11} - \\frac{1}{z + 1}$"
      ],
      "text/plain": [
       "       110        1  \n",
       "11 + ──────── - ─────\n",
       "     6⋅z - 11   z + 1"
      ]
     },
     "execution_count": 35,
     "metadata": {},
     "output_type": "execute_result"
    }
   ],
   "source": [
    "X = x.subs({'a': 1.5})(z)\n",
    "X.partfrac().simplify_terms().expr"
   ]
  },
  {
   "cell_type": "code",
   "execution_count": 36,
   "id": "5486b611",
   "metadata": {},
   "outputs": [
    {
     "data": {
      "image/png": "[encoded data removed]",
      "text/plain": [
       "<Figure size 432x288 with 1 Axes>"
      ]
     },
     "metadata": {
      "needs_background": "light"
     },
     "output_type": "display_data"
    }
   ],
   "source": [
    "X(z).plot(title=\"Pole-Zero plot for a=1.5\")"
   ]
  },
  {
   "cell_type": "code",
   "execution_count": 37,
   "id": "6b045664",
   "metadata": {},
   "outputs": [
    {
     "data": {
      "image/png": "[encoded data removed]",
      "text/latex": [
       "$\\displaystyle 11 + \\frac{100}{3 z - 10} - \\frac{5}{2 z + 5}$"
      ],
      "text/plain": [
       "       100         5   \n",
       "11 + ──────── - ───────\n",
       "     3⋅z - 10   2⋅z + 5"
      ]
     },
     "execution_count": 37,
     "metadata": {},
     "output_type": "execute_result"
    }
   ],
   "source": [
    "X = x.subs({'a': 3})(z)\n",
    "X.partfrac().simplify_terms().expr"
   ]
  },
  {
   "cell_type": "code",
   "execution_count": 38,
   "id": "f97e6a8f",
   "metadata": {},
   "outputs": [
    {
     "data": {
      "image/png": "[encoded data removed]",
      "text/plain": [
       "<Figure size 432x288 with 1 Axes>"
      ]
     },
     "metadata": {
      "needs_background": "light"
     },
     "output_type": "display_data"
    }
   ],
   "source": [
    "X(z).plot(title=\"Pole-Zero plot for a=3\")"
   ]
  },
  {
   "cell_type": "markdown",
   "id": "967b1a25",
   "metadata": {},
   "source": [
    "### B)"
   ]
  },
  {
   "cell_type": "code",
   "execution_count": 94,
   "id": "b4d20625",
   "metadata": {},
   "outputs": [
    {
     "data": {
      "image/png": "[encoded data removed]",
      "text/latex": [
       "$\\displaystyle a^{n} n u\\left[n\\right]$"
      ],
      "text/plain": [
       " n       \n",
       "a ⋅n⋅u[n]"
      ]
     },
     "execution_count": 94,
     "metadata": {},
     "output_type": "execute_result"
    }
   ],
   "source": [
    "x = expr('n*a**n*u(n)')\n",
    "x.expr"
   ]
  },
  {
   "cell_type": "markdown",
   "id": "d8dd0b0b",
   "metadata": {},
   "source": [
    "#### 1."
   ]
  },
  {
   "cell_type": "code",
   "execution_count": 95,
   "id": "c54ec012",
   "metadata": {},
   "outputs": [
    {
     "data": {
      "image/png": "[encoded data removed]",
      "text/latex": [
       "$\\displaystyle \\frac{a z}{\\left(a - z\\right)^{2}}$"
      ],
      "text/plain": [
       "  a⋅z   \n",
       "────────\n",
       "       2\n",
       "(a - z) "
      ]
     },
     "execution_count": 95,
     "metadata": {},
     "output_type": "execute_result"
    }
   ],
   "source": [
    "X = x(z)\n",
    "X.simplify().expr"
   ]
  },
  {
   "cell_type": "markdown",
   "id": "71ba9149",
   "metadata": {},
   "source": [
    "#### 2."
   ]
  },
  {
   "cell_type": "code",
   "execution_count": 96,
   "id": "9a792e8a",
   "metadata": {},
   "outputs": [
    {
     "data": {
      "image/png": "[encoded data removed]",
      "text/latex": [
       "$\\displaystyle a^{n} n u\\left[n\\right]$"
      ],
      "text/plain": [
       " n       \n",
       "a ⋅n⋅u[n]"
      ]
     },
     "execution_count": 96,
     "metadata": {},
     "output_type": "execute_result"
    }
   ],
   "source": [
    "X(n).simplify().expr"
   ]
  },
  {
   "cell_type": "markdown",
   "id": "385bca20",
   "metadata": {},
   "source": [
    "#### 3."
   ]
  },
  {
   "cell_type": "code",
   "execution_count": 97,
   "id": "0956a465",
   "metadata": {},
   "outputs": [
    {
     "data": {
      "image/png": "[encoded data removed]",
      "text/latex": [
       "$\\displaystyle \\frac{- N a^{N} + \\left(N a a^{N} - a a^{N} + a\\right) e^{- \\frac{2 \\mathrm{j} \\pi k}{N}}}{\\left(- a e^{- \\frac{2 \\mathrm{j} \\pi k}{N}} + 1\\right)^{2}}$"
      ],
      "text/plain": [
       "                              -2⋅ⅉ⋅π⋅k \n",
       "                              ─────────\n",
       "     N   ⎛     N      N    ⎞      N    \n",
       "- N⋅a  + ⎝N⋅a⋅a  - a⋅a  + a⎠⋅ℯ         \n",
       "───────────────────────────────────────\n",
       "                             2         \n",
       "         ⎛     -2⋅ⅉ⋅π⋅k     ⎞          \n",
       "         ⎜     ─────────    ⎟          \n",
       "         ⎜         N        ⎟          \n",
       "         ⎝- a⋅ℯ          + 1⎠          "
      ]
     },
     "execution_count": 97,
     "metadata": {},
     "output_type": "execute_result"
    }
   ],
   "source": [
    "x.DFT().expr"
   ]
  },
  {
   "cell_type": "markdown",
   "id": "eb1d4b53",
   "metadata": {},
   "source": [
    "#### 4."
   ]
  },
  {
   "cell_type": "code",
   "execution_count": 98,
   "id": "fd97f2ae",
   "metadata": {},
   "outputs": [
    {
     "data": {
      "image/png": "[encoded data removed]",
      "text/latex": [
       "$\\displaystyle \\frac{a e^{2 \\mathrm{j} \\pi \\Delta_{t} f}}{a^{2} - 2 a e^{2 \\mathrm{j} \\pi \\Delta_{t} f} + e^{4 \\mathrm{j} \\pi \\Delta_{t} f}}$"
      ],
      "text/plain": [
       "             2⋅ⅉ⋅π⋅Δₜ⋅f           \n",
       "          a⋅ℯ                     \n",
       "──────────────────────────────────\n",
       " 2        2⋅ⅉ⋅π⋅Δₜ⋅f    4⋅ⅉ⋅π⋅Δₜ⋅f\n",
       "a  - 2⋅a⋅ℯ           + ℯ          "
      ]
     },
     "execution_count": 98,
     "metadata": {},
     "output_type": "execute_result"
    }
   ],
   "source": [
    "x.DTFT().expr"
   ]
  },
  {
   "cell_type": "markdown",
   "id": "97c331db",
   "metadata": {},
   "source": [
    "#### 5."
   ]
  },
  {
   "cell_type": "code",
   "execution_count": 102,
   "id": "b7f7a9e3",
   "metadata": {},
   "outputs": [
    {
     "data": {
      "image/png": "[encoded data removed]",
      "text/latex": [
       "$\\displaystyle \\frac{a e^{2 \\mathrm{j} \\pi F}}{a^{2} - 2 a e^{2 \\mathrm{j} \\pi F} + e^{4 \\mathrm{j} \\pi F}}$"
      ],
      "text/plain": [
       "            2⋅ⅉ⋅π⋅F         \n",
       "         a⋅ℯ                \n",
       "────────────────────────────\n",
       " 2        2⋅ⅉ⋅π⋅F    4⋅ⅉ⋅π⋅F\n",
       "a  - 2⋅a⋅ℯ        + ℯ       "
      ]
     },
     "execution_count": 102,
     "metadata": {},
     "output_type": "execute_result"
    }
   ],
   "source": [
    "x.DTFT(F).expr"
   ]
  },
  {
   "cell_type": "code",
   "execution_count": 103,
   "id": "4372a4d3",
   "metadata": {},
   "outputs": [
    {
     "data": {
      "image/png": "[encoded data removed]",
      "text/latex": [
       "$\\displaystyle \\frac{a e^{\\mathrm{j} \\Omega}}{a^{2} - 2 a e^{\\mathrm{j} \\Omega} + e^{2 \\mathrm{j} \\Omega}}$"
      ],
      "text/plain": [
       "           ⅉ⋅Ω        \n",
       "        a⋅ℯ           \n",
       "──────────────────────\n",
       " 2        ⅉ⋅Ω    2⋅ⅉ⋅Ω\n",
       "a  - 2⋅a⋅ℯ    + ℯ     "
      ]
     },
     "execution_count": 103,
     "metadata": {},
     "output_type": "execute_result"
    }
   ],
   "source": [
    "x.DTFT(Omega).expr"
   ]
  },
  {
   "cell_type": "markdown",
   "id": "eb229c58",
   "metadata": {},
   "source": [
    "#### 6."
   ]
  },
  {
   "cell_type": "code",
   "execution_count": 39,
   "id": "37d402ea",
   "metadata": {},
   "outputs": [
    {
     "data": {
      "image/png": "[encoded data removed]",
      "text/plain": [
       "<Figure size 432x288 with 2 Axes>"
      ]
     },
     "metadata": {
      "needs_background": "light"
     },
     "output_type": "display_data"
    }
   ],
   "source": [
    "x.subs({'a': 3}).DTFT(Omega).plot(title=\"DTFT\")"
   ]
  },
  {
   "cell_type": "markdown",
   "id": "d5981551",
   "metadata": {},
   "source": [
    "# Question 5\n",
    "### A)"
   ]
  },
  {
   "cell_type": "code",
   "execution_count": 41,
   "id": "e237d766",
   "metadata": {},
   "outputs": [
    {
     "data": {
      "image/png": "[encoded data removed]",
      "text/latex": [
       "$\\displaystyle y(n) = a x(n) + b x(n - 1) - c y(n - 1) - d y(n - 2)$"
      ],
      "text/plain": [
       "y(n) = a⋅x(n) + b⋅x(n - 1) - c⋅y(n - 1) - d⋅y(n - 2)"
      ]
     },
     "execution_count": 41,
     "metadata": {},
     "output_type": "execute_result"
    }
   ],
   "source": [
    "a = symbol('a')\n",
    "b = symbol('b')\n",
    "c = symbol('c')\n",
    "d = symbol('d')\n",
    "lpf = DLTIFilter((a, b, ), (1, c, d))\n",
    "LPF = lpf.difference_equation()\n",
    "LPF.expr"
   ]
  },
  {
   "cell_type": "markdown",
   "id": "7edde277",
   "metadata": {},
   "source": [
    "### B)"
   ]
  },
  {
   "cell_type": "code",
   "execution_count": 42,
   "id": "68ddc7e1",
   "metadata": {},
   "outputs": [
    {
     "data": {
      "image/png": "[encoded data removed]",
      "text/latex": [
       "$\\displaystyle \\frac{z \\left(a z + b\\right)}{c z + d + z^{2}}$"
      ],
      "text/plain": [
       "z⋅(a⋅z + b) \n",
       "────────────\n",
       "           2\n",
       "c⋅z + d + z "
      ]
     },
     "execution_count": 42,
     "metadata": {},
     "output_type": "execute_result"
    }
   ],
   "source": [
    "LPF.transfer_function().expr"
   ]
  },
  {
   "cell_type": "markdown",
   "id": "7de32809",
   "metadata": {},
   "source": [
    "### C)"
   ]
  },
  {
   "cell_type": "code",
   "execution_count": 43,
   "id": "b04fdc9d",
   "metadata": {},
   "outputs": [
    {
     "data": {
      "image/png": "[encoded data removed]",
      "text/latex": [
       "$\\displaystyle \\frac{\\left(a e^{\\mathrm{j} \\omega} + b\\right) e^{\\mathrm{j} \\omega}}{c e^{\\mathrm{j} \\omega} + d + e^{2 \\mathrm{j} \\omega}}$"
      ],
      "text/plain": [
       " ⎛   ⅉ⋅ω    ⎞  ⅉ⋅ω \n",
       " ⎝a⋅ℯ    + b⎠⋅ℯ    \n",
       "───────────────────\n",
       "   ⅉ⋅ω        2⋅ⅉ⋅ω\n",
       "c⋅ℯ    + d + ℯ     "
      ]
     },
     "execution_count": 43,
     "metadata": {},
     "output_type": "execute_result"
    }
   ],
   "source": [
    "transform = LPF.transfer_function()\n",
    "transform.subs({'z': exp(j*omega)}).simplify().expr"
   ]
  },
  {
   "cell_type": "markdown",
   "id": "aaaad839",
   "metadata": {},
   "source": [
    "### D)"
   ]
  },
  {
   "cell_type": "code",
   "execution_count": 44,
   "id": "778decf2",
   "metadata": {},
   "outputs": [
    {
     "data": {
      "image/png": "[encoded data removed]",
      "text/latex": [
       "$\\displaystyle y(n) = x(n) + x(n - 1) - 2 y(n - 2) + 3 y(n - 1)$"
      ],
      "text/plain": [
       "y(n) = x(n) + x(n - 1) - 2⋅y(n - 2) + 3⋅y(n - 1)"
      ]
     },
     "execution_count": 44,
     "metadata": {},
     "output_type": "execute_result"
    }
   ],
   "source": [
    "lpf = lpf.subs({'a':1, 'b':1, 'c':-3, 'd':2})\n",
    "LPF = lpf.difference_equation()\n",
    "LPF.expr"
   ]
  },
  {
   "cell_type": "code",
   "execution_count": 45,
   "id": "4b199425",
   "metadata": {},
   "outputs": [
    {
     "data": {
      "image/png": "[encoded data removed]",
      "text/latex": [
       "$\\displaystyle \\frac{z \\left(z + 1\\right)}{z^{2} - 3 z + 2}$"
      ],
      "text/plain": [
       " z⋅(z + 1)  \n",
       "────────────\n",
       " 2          \n",
       "z  - 3⋅z + 2"
      ]
     },
     "execution_count": 45,
     "metadata": {},
     "output_type": "execute_result"
    }
   ],
   "source": [
    "H = LPF.transfer_function()\n",
    "H.simplify().expr"
   ]
  },
  {
   "cell_type": "markdown",
   "id": "d4bd26d8",
   "metadata": {},
   "source": [
    "### E)"
   ]
  },
  {
   "cell_type": "code",
   "execution_count": 46,
   "id": "13354067",
   "metadata": {},
   "outputs": [
    {
     "data": {
      "image/png": "[encoded data removed]",
      "text/latex": [
       "$\\displaystyle y(n) = x(n) + x(n - 1) - 2 y(n - 2) + 3 y(n - 1)$"
      ],
      "text/plain": [
       "y(n) = x(n) + x(n - 1) - 2⋅y(n - 2) + 3⋅y(n - 1)"
      ]
     },
     "execution_count": 46,
     "metadata": {},
     "output_type": "execute_result"
    }
   ],
   "source": [
    "H.difference_equation('x', 'y', 'iir').expr"
   ]
  },
  {
   "cell_type": "markdown",
   "id": "4207f6c0",
   "metadata": {},
   "source": [
    "the block diagram is drawn in the report\n",
    "### F)"
   ]
  },
  {
   "cell_type": "code",
   "execution_count": 58,
   "id": "3d91c034",
   "metadata": {},
   "outputs": [
    {
     "data": {
      "image/png": "[encoded data removed]",
      "text/latex": [
       "$\\displaystyle \\frac{z}{z - 2}$"
      ],
      "text/plain": [
       "  z  \n",
       "─────\n",
       "z - 2"
      ]
     },
     "execution_count": 58,
     "metadata": {},
     "output_type": "execute_result"
    }
   ],
   "source": [
    "x = expr('2**n*u(n)')\n",
    "X = x(z)\n",
    "X.simplify().expr"
   ]
  },
  {
   "cell_type": "code",
   "execution_count": 65,
   "id": "60f99158",
   "metadata": {},
   "outputs": [
    {
     "data": {
      "text/latex": [
       "$$\\left\\{\\underline{1}, 6, 22, 66\\right\\}$$"
      ],
      "text/plain": [
       "{_1, 6, 22, 66}"
      ]
     },
     "execution_count": 65,
     "metadata": {},
     "output_type": "execute_result"
    }
   ],
   "source": [
    "Y = H*X\n",
    "y = Y(n)\n",
    "y.seq((0,3))"
   ]
  }
 ],
 "metadata": {
  "kernelspec": {
   "display_name": "Python 3",
   "language": "python",
   "name": "python3"
  },
  "language_info": {
   "codemirror_mode": {
    "name": "ipython",
    "version": 3
   },
   "file_extension": ".py",
   "mimetype": "text/x-python",
   "name": "python",
   "nbconvert_exporter": "python",
   "pygments_lexer": "ipython3",
   "version": "3.9.1"
  }
 },
 "nbformat": 4,
 "nbformat_minor": 5
}
